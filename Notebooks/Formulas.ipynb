{
 "cells": [
  {
   "cell_type": "markdown",
   "id": "4d9180bd",
   "metadata": {},
   "source": [
    "## Cockcroft - Gault ( Peso magro o peso total )"
   ]
  },
  {
   "cell_type": "code",
   "execution_count": 1,
   "id": "4fdfc765",
   "metadata": {},
   "outputs": [],
   "source": [
    "DECIMALS = 3\n",
    "\n",
    "\n",
    "def get_peso_magro(genero, peso, imc):\n",
    "    \"\"\" Toma el peso magro \"\"\"\n",
    "    if genero == \"masculino\":\n",
    "        ind1 = 6680\n",
    "        ind2 = 216\n",
    "    else:\n",
    "        ind1 = 6780\n",
    "        ind2 = 244\n",
    "    formula = (9270 * peso) / (ind1 + (ind2 * imc))\n",
    "    return round(formula, DECIMALS)\n",
    "\n",
    "\n",
    "def get_imc(peso, talla):\n",
    "    \"\"\" Calcula IMC \"\"\"\n",
    "    return round(peso / ((talla * talla) / 10000), DECIMALS)\n",
    "\n",
    "def get_superficie_corp(peso, talla):\n",
    "    \"\"\" Get superficie corporal \"\"\"\n",
    "    return (peso**0.425)*(talla**0.725)*0.007184\n",
    "\n",
    "\n",
    "def get_cg_clearance_creatinina(edad, peso, talla, genero, creatinina):\n",
    "    \"\"\" Toma el clearence creatinina \"\"\"\n",
    "    imc = get_imc(peso, talla)\n",
    "    _peso = None\n",
    "    \n",
    "    multi_genero = 1 if genero == \"masculino\" else 0.85\n",
    "    \n",
    "    if imc > 30:\n",
    "        _peso = get_peso_magro(genero, peso, imc)\n",
    "    else:\n",
    "        _peso = peso\n",
    "    total = ((140 - edad) * _peso / (72 * creatinina)) * multi_genero\n",
    "    return round(total, 1)\n",
    "\n",
    "\n",
    "def get_cg_estimacion_vfg(edad, peso, talla, genero, creatinina):\n",
    "    \"\"\" Get estimación VFG Cockgroft Gault \"\"\"\n",
    "    superficie_corp = get_superficie_corp(peso, talla)\n",
    "    clear_creatinina = get_cg_clearance_creatinina(edad, peso, talla, genero, creatinina)\n",
    "    return round(( 1.73 / superficie_corp ) * clear_creatinina, 1)"
   ]
  },
  {
   "cell_type": "code",
   "execution_count": 2,
   "id": "190fe9b8",
   "metadata": {},
   "outputs": [],
   "source": [
    "edad = 57\n",
    "peso = 120\n",
    "talla = 180\n",
    "genero = \"masculino\"\n",
    "creatinina = 0.26"
   ]
  },
  {
   "cell_type": "code",
   "execution_count": 3,
   "id": "39edc748",
   "metadata": {},
   "outputs": [],
   "source": [
    "clear_creatinina = get_cg_clearance_creatinina(edad, peso, talla, genero, creatinina)"
   ]
  },
  {
   "cell_type": "code",
   "execution_count": 4,
   "id": "ff7bad24",
   "metadata": {},
   "outputs": [],
   "source": [
    "estimacion_vfg = get_cg_estimacion_vfg(edad, peso, talla, genero, creatinina)"
   ]
  },
  {
   "cell_type": "code",
   "execution_count": 5,
   "id": "3e4bfed0",
   "metadata": {},
   "outputs": [
    {
     "data": {
      "text/plain": [
       "245.1"
      ]
     },
     "execution_count": 5,
     "metadata": {},
     "output_type": "execute_result"
    }
   ],
   "source": [
    "estimacion_vfg"
   ]
  },
  {
   "cell_type": "markdown",
   "id": "a2a2c932",
   "metadata": {},
   "source": [
    "## CDK-EPICreatinina (2021)"
   ]
  },
  {
   "cell_type": "code",
   "execution_count": 6,
   "id": "1f61bd42",
   "metadata": {},
   "outputs": [],
   "source": [
    "def get_cdk_epicreatinina_2021(creatinina, genero, edad):\n",
    "    \"\"\" Toma el valor de la formula CDK-EPICreatinina (2021) \"\"\"\n",
    "    if genero == \"masculino\":\n",
    "        var_genero_a = 0.9\n",
    "        multi_genero = 1\n",
    "        if creatinina <= 0.9:\n",
    "            var_genero_b = -0.302\n",
    "        else:\n",
    "            var_genero_b = -1.2\n",
    "    else:\n",
    "        var_genero_a = 0.7\n",
    "        multi_genero = 1.012\n",
    "        if creatinina <= 0.7:\n",
    "            var_genero_b = -0.241\n",
    "        else:\n",
    "            var_genero_b = -1.2\n",
    "    formula = 142 * ((creatinina/var_genero_a) ** var_genero_b) * (0.9938**edad) * multi_genero\n",
    "    return round(formula, 1)\n",
    "\n",
    "def get_vfg_no_normalizada(creatinina, genero, edad, peso, talla):\n",
    "    \"\"\" Toma la VFG no normalizada de la función CKD-EPIcreatinina_2021 \"\"\"\n",
    "    cdk_epicreatinina_2021 = get_cdk_epicreatinina_2021(creatinina, genero, edad)\n",
    "    superficie_corp = get_superficie_corp(peso, talla)\n",
    "    formula = (superficie_corp/1.73)*cdk_epicreatinina_2021\n",
    "    return round(formula, 1)"
   ]
  },
  {
   "cell_type": "code",
   "execution_count": 7,
   "id": "12a9ebee",
   "metadata": {},
   "outputs": [
    {
     "data": {
      "text/plain": [
       "178.3"
      ]
     },
     "execution_count": 7,
     "metadata": {},
     "output_type": "execute_result"
    }
   ],
   "source": [
    "creatinina2 = 0.26\n",
    "genero2 = \"masculino\"\n",
    "edad2 = 57\n",
    "peso2 = 93\n",
    "talla2 = 180\n",
    "get_vfg_no_normalizada(creatinina2, genero2, edad2, peso2, talla2)"
   ]
  },
  {
   "cell_type": "markdown",
   "id": "18c5db59",
   "metadata": {},
   "source": [
    "## CKD-EPIcrea-cys (2021)"
   ]
  },
  {
   "cell_type": "code",
   "execution_count": 8,
   "id": "de09383c",
   "metadata": {},
   "outputs": [],
   "source": [
    "def get_ckd_epicrea_cys_2021(creatinina, cistanina, genero, edad):\n",
    "    multi_genero = 1 if genero == \"masculino\" else 0.963\n",
    "    if genero == \"masculino\":\n",
    "        if creatinina <= 0.9:\n",
    "            if cistanina <= 0.8:\n",
    "                A = 0.9\n",
    "                B = -0.144\n",
    "                C = 0.8\n",
    "                B = -0.323\n",
    "            else:\n",
    "                A = 0.9\n",
    "                B = -0.144\n",
    "                C = 0.8\n",
    "                D = -0.778\n",
    "        else:\n",
    "            if cistanina <= 0.8:\n",
    "                A = 0.9\n",
    "                B = -0.544\n",
    "                C = 0.8\n",
    "                D = -0.323\n",
    "            else:\n",
    "                A = 0.9\n",
    "                B = -0.544\n",
    "                C = 0.8\n",
    "                D = -0.778\n",
    "    else:\n",
    "        if creatinina <= 0.7:\n",
    "            if cistanina <= 0.8:\n",
    "                A = 0.7\n",
    "                B = -0.219\n",
    "                C = 0.8\n",
    "                D =-0.323\n",
    "            else:\n",
    "                A = 0.7\n",
    "                B = -0.219\n",
    "                C = 0.8\n",
    "                D =-0.778\n",
    "        else:\n",
    "            if cistanina <= 0.8:\n",
    "                A = 0.7\n",
    "                B = -0.544\n",
    "                C = 0.8\n",
    "                D = -0.323\n",
    "            else:\n",
    "                A = 0.7\n",
    "                B = -0.544\n",
    "                C = 0.8\n",
    "                D = -0.778    \n",
    "    formula = 135 * ((creatinina/A)**B) * ((cistanina/C)**D) * (0.9961 ** edad) * multi_genero\n",
    "    return round(formula, 1)\n",
    "\n",
    "\n",
    "def get_ckd_epicrea_cys_vfg_no_norm(creatinina, cistanina, genero, edad, peso, talla):\n",
    "    \"\"\" CKD-EPIcrea-cys (2021) VFG no normalizada \"\"\"\n",
    "    estimacion_vfg = get_ckd_epicrea_cys_2021(creatinina, cistanina, genero, edad)\n",
    "    superficie_corp = get_superficie_corp(peso, talla)\n",
    "    formula = (superficie_corp / 1.73) * estimacion_vfg\n",
    "    return round(formula, 1)"
   ]
  },
  {
   "cell_type": "code",
   "execution_count": 9,
   "id": "53649049",
   "metadata": {},
   "outputs": [
    {
     "data": {
      "text/plain": [
       "130.5"
      ]
     },
     "execution_count": 9,
     "metadata": {},
     "output_type": "execute_result"
    }
   ],
   "source": [
    "creatinina2 = 0.26\n",
    "genero2 = \"masculino\"\n",
    "edad2 = 57\n",
    "peso2 = 93\n",
    "talla2 = 180\n",
    "cistanina2 = 1.03\n",
    "get_ckd_epicrea_cys_vfg_no_norm(creatinina2, cistanina2, genero2, edad2, peso2, talla2)"
   ]
  },
  {
   "cell_type": "code",
   "execution_count": 10,
   "id": "4d576690",
   "metadata": {},
   "outputs": [
    {
     "data": {
      "text/plain": [
       "106.1"
      ]
     },
     "execution_count": 10,
     "metadata": {},
     "output_type": "execute_result"
    }
   ],
   "source": [
    "get_ckd_epicrea_cys_2021(creatinina2, cistanina2, genero2, edad2)"
   ]
  },
  {
   "cell_type": "markdown",
   "id": "11388cd4",
   "metadata": {},
   "source": [
    "## BIS 1"
   ]
  },
  {
   "cell_type": "code",
   "execution_count": 16,
   "id": "c63fbfcf",
   "metadata": {},
   "outputs": [],
   "source": [
    "def bis1(creatinina, edad, genero):\n",
    "    \"\"\" VFG BIS 1\"\"\"\n",
    "    multi_genero = 1 if genero == \"masculino\" else 0.82\n",
    "    formula = 3736 * (creatinina**-0.87) * (edad**-0.95) * multi_genero\n",
    "    return round(formula, 1)"
   ]
  },
  {
   "cell_type": "code",
   "execution_count": 17,
   "id": "8ac95311",
   "metadata": {},
   "outputs": [
    {
     "data": {
      "text/plain": [
       "259.0"
      ]
     },
     "execution_count": 17,
     "metadata": {},
     "output_type": "execute_result"
    }
   ],
   "source": [
    "bis1(creatinina2, edad2, genero2)"
   ]
  },
  {
   "cell_type": "code",
   "execution_count": 18,
   "id": "44fe8b3b",
   "metadata": {},
   "outputs": [],
   "source": [
    "def bis2(cistatina, creatinina, edad, genero):\n",
    "    \"\"\" VFG BIS2 \"\"\"\n",
    "    multi_genero = 1 if genero == \"masculino\" else 0.87\n",
    "    formula = 767 * (cistatina**-0.61) * (creatinina**-0.40) * (edad**-0.57) * multi_genero\n",
    "    return round(formula, 1)"
   ]
  },
  {
   "cell_type": "code",
   "execution_count": 19,
   "id": "5095cc0c",
   "metadata": {},
   "outputs": [
    {
     "data": {
      "text/plain": [
       "128.9"
      ]
     },
     "execution_count": 19,
     "metadata": {},
     "output_type": "execute_result"
    }
   ],
   "source": [
    "bis2(cistanina2, creatinina2, edad2, genero2)"
   ]
  }
 ],
 "metadata": {
  "kernelspec": {
   "display_name": "Python 3 (ipykernel)",
   "language": "python",
   "name": "python3"
  },
  "language_info": {
   "codemirror_mode": {
    "name": "ipython",
    "version": 3
   },
   "file_extension": ".py",
   "mimetype": "text/x-python",
   "name": "python",
   "nbconvert_exporter": "python",
   "pygments_lexer": "ipython3",
   "version": "3.11.5"
  }
 },
 "nbformat": 4,
 "nbformat_minor": 5
}
